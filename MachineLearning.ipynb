{
  "nbformat": 4,
  "nbformat_minor": 0,
  "metadata": {
    "colab": {
      "provenance": [],
      "authorship_tag": "ABX9TyNf3HsjrIKuQKvalUgGhM/V",
      "include_colab_link": true
    },
    "kernelspec": {
      "name": "python3",
      "display_name": "Python 3"
    },
    "language_info": {
      "name": "python"
    }
  },
  "cells": [
    {
      "cell_type": "markdown",
      "metadata": {
        "id": "view-in-github",
        "colab_type": "text"
      },
      "source": [
        "<a href=\"https://colab.research.google.com/github/Piyaphum/Python-Mini-Projects/blob/main/MachineLearning.ipynb\" target=\"_parent\"><img src=\"https://colab.research.google.com/assets/colab-badge.svg\" alt=\"Open In Colab\"/></a>"
      ]
    },
    {
      "cell_type": "code",
      "execution_count": null,
      "metadata": {
        "id": "EEDSLf_TSArI"
      },
      "outputs": [],
      "source": [
        "from collections import Counter\n",
        "from sklearn.linear_model import LogisticRegression\n",
        "from sklearn.svm import SVC\n",
        "from sklearn.model_selection import train_test_split\n",
        "from sklearn.preprocessing import StandardScaler\n",
        "from imblearn.metrics import classification_report_imbalanced\n",
        "from sklearn.metrics import ConfusionMatrixDisplay\n",
        "from imblearn.datasets import fetch_datasets\n",
        "from imblearn.pipeline import make_pipeline\n",
        "from imblearn.over_sampling import SMOTE\n",
        "from imblearn.under_sampling import NearMiss\n",
        "from sklearn.metrics import accuracy_score, precision_score, recall_score, balanced_accuracy_score, f1_score, roc_auc_score\n",
        "\n",
        "import matplotlib.pyplot as plt"
      ]
    },
    {
      "cell_type": "code",
      "source": [
        "RANDOM_STATE = 42\n",
        "\n",
        "dataset = fetch_datasets()['wine_quality']\n",
        "print(sorted((Counter(dataset.target).items())))\n",
        "X = dataset.data\n",
        "y = dataset.target\n",
        "lists = Counter(dataset.target)\n",
        "plt.xticks([-1,1], ['-1','1'])\n",
        "plt.bar(lists.keys(),lists.values())\n",
        "\n",
        "plt.show()\n",
        "\n",
        "\n",
        "\n",
        "X_train, X_test, y_train, y_test = train_test_split(X,y,random_state=RANDOM_STATE)\n",
        "print(f\"Training target : {Counter(y_train)}\")\n",
        "print(f\"Test target : {Counter(y_test)}\")\n",
        "\n",
        "over_model = make_pipeline(\n",
        "    StandardScaler(),\n",
        "    SMOTE(random_state = RANDOM_STATE),\n",
        "    SVC(random_state=RANDOM_STATE) )\n",
        "\n",
        "over_model.fit(X_train,y_train)\n",
        "y_predicted = over_model.predict(X_test)\n",
        "\n",
        "print('accuracy score :', accuracy_score(y_test,y_predicted))"
      ],
      "metadata": {
        "colab": {
          "base_uri": "https://localhost:8080/",
          "height": 499
        },
        "id": "mR5pkm5cUGjp",
        "outputId": "3f37b4a7-87de-4c4f-e109-3da6a5df1747"
      },
      "execution_count": null,
      "outputs": [
        {
          "output_type": "stream",
          "name": "stdout",
          "text": [
            "[(-1, 4715), (1, 183)]\n"
          ]
        },
        {
          "output_type": "display_data",
          "data": {
            "text/plain": [
              "<Figure size 640x480 with 1 Axes>"
            ],
            "image/png": "[encoded data removed]"
          },
          "metadata": {}
        },
        {
          "output_type": "stream",
          "name": "stdout",
          "text": [
            "Training target : Counter({-1: 3529, 1: 144})\n",
            "Test target : Counter({-1: 1186, 1: 39})\n",
            "accuracy score : 0.8759183673469387\n"
          ]
        }
      ]
    },
    {
      "cell_type": "code",
      "source": [
        "print('Precision Score : ', precision_score(y_test, y_predicted))\n",
        "print(\"Recall Score : \", recall_score(y_test, y_predicted))\n",
        "print(\"F1-Score : \", f1_score(y_test, y_predicted))\n",
        "print(\"ROC AUC Score : \", roc_auc_score(y_test, y_predicted))\n",
        "print(\"Balanced Accuracy : \", balanced_accuracy_score(y_test, y_predicted))"
      ],
      "metadata": {
        "colab": {
          "base_uri": "https://localhost:8080/"
        },
        "id": "JhIYer21WWRG",
        "outputId": "04893a3c-5abf-4679-a31e-c895c2c03ac5"
      },
      "execution_count": null,
      "outputs": [
        {
          "output_type": "stream",
          "name": "stdout",
          "text": [
            "Precision Score :  0.14012738853503184\n",
            "Recall Score :  0.5641025641025641\n",
            "F1-Score :  0.22448979591836737\n",
            "ROC AUC Score :  0.7251372854239634\n",
            "Balanced Accuracy :  0.7251372854239633\n"
          ]
        }
      ]
    },
    {
      "cell_type": "code",
      "source": [
        "under_model = make_pipeline(\n",
        "    StandardScaler(),\n",
        "    NearMiss(),\n",
        "    SVC(random_state=RANDOM_STATE) )\n",
        "\n",
        "under_model.fit(X_train,y_train)\n",
        "y_predicted = under_model.predict(X_test)"
      ],
      "metadata": {
        "id": "HYklL20YZQ-0"
      },
      "execution_count": null,
      "outputs": []
    },
    {
      "cell_type": "code",
      "source": [
        "print('Precision Score : ', precision_score(y_test, y_predicted))\n",
        "print(\"Recall Score : \", recall_score(y_test, y_predicted))\n",
        "print(\"F1-Score : \", f1_score(y_test, y_predicted))\n",
        "print(\"ROC AUC Score : \", roc_auc_score(y_test, y_predicted))\n",
        "print(\"Balanced Accuracy : \", balanced_accuracy_score(y_test, y_predicted))\n",
        "print(ConfusionMatrixDisplay.from_estimator(under_model, X_test, y_predicted))\n",
        "print('accuracy score :', accuracy_score(y_test,y_predicted))"
      ],
      "metadata": {
        "colab": {
          "base_uri": "https://localhost:8080/",
          "height": 570
        },
        "id": "xAQcScxIZpMr",
        "outputId": "4da4a00b-2209-4421-b323-f8d8f05080a5"
      },
      "execution_count": null,
      "outputs": [
        {
          "output_type": "stream",
          "name": "stdout",
          "text": [
            "Precision Score :  0.05400696864111498\n",
            "Recall Score :  0.7948717948717948\n",
            "F1-Score :  0.10114192495921696\n",
            "ROC AUC Score :  0.6685151554460154\n",
            "Balanced Accuracy :  0.6685151554460155\n",
            "<sklearn.metrics._plot.confusion_matrix.ConfusionMatrixDisplay object at 0x7de4ccbba1a0>\n",
            "accuracy score : 0.5502040816326531\n"
          ]
        },
        {
          "output_type": "display_data",
          "data": {
            "text/plain": [
              "<Figure size 640x480 with 2 Axes>"
            ],
            "image/png": "[encoded data removed]"
          },
          "metadata": {}
        }
      ]
    },
    {
      "cell_type": "code",
      "source": [
        "import pandas as pd\n",
        "import csv\n",
        "import numpy as np\n",
        "import matplotlib.pyplot as plt\n",
        "from sklearn.model_selection import train_test_split\n",
        "from sklearn.metrics import r2_score, mean_absolute_error, mean_squared_error"
      ],
      "metadata": {
        "id": "z0B1R4r3a3wG"
      },
      "execution_count": null,
      "outputs": []
    },
    {
      "cell_type": "code",
      "source": [
        "url= 'https://drive.google.com/uc?id=17Vs8R2ddwu4yO-FuPdBrpbxDMXaGQZhW'\n",
        "df = pd.read_csv(url)\n",
        "print(df)"
      ],
      "metadata": {
        "colab": {
          "base_uri": "https://localhost:8080/"
        },
        "id": "M9_iNfvOfX03",
        "outputId": "e63d266f-8804-491c-becd-1d239b9de5b6"
      },
      "execution_count": null,
      "outputs": [
        {
          "output_type": "stream",
          "name": "stdout",
          "text": [
            "     total_bill   tip     sex smoker   day    time  size\n",
            "0         16.99  1.01  Female     No   Sun  Dinner     2\n",
            "1         10.34  1.66    Male     No   Sun  Dinner     3\n",
            "2         21.01  3.50    Male     No   Sun  Dinner     3\n",
            "3         23.68  3.31    Male     No   Sun  Dinner     2\n",
            "4         24.59  3.61  Female     No   Sun  Dinner     4\n",
            "..          ...   ...     ...    ...   ...     ...   ...\n",
            "239       29.03  5.92    Male     No   Sat  Dinner     3\n",
            "240       27.18  2.00  Female    Yes   Sat  Dinner     2\n",
            "241       22.67  2.00    Male    Yes   Sat  Dinner     2\n",
            "242       17.82  1.75    Male     No   Sat  Dinner     2\n",
            "243       18.78  3.00  Female     No  Thur  Dinner     2\n",
            "\n",
            "[244 rows x 7 columns]\n"
          ]
        }
      ]
    },
    {
      "cell_type": "code",
      "source": [
        "X = df['total_bill']\n",
        "y = df['tip']\n",
        "\n",
        "X_train, X_test, y_train, y_test = train_test_split(X, y, random_state=123)\n",
        "\n",
        "polynomial_factor = np.polyfit(X_train, y_train, 1) #polyfit = ทำให้พอดี\n",
        "polyfunc = np.poly1d(polynomial_factor) #1d = 1 Dimension\n",
        "\n",
        "print(polynomial_factor)\n",
        "print(polyfunc)"
      ],
      "metadata": {
        "colab": {
          "base_uri": "https://localhost:8080/"
        },
        "id": "M1tzQ54SgCor",
        "outputId": "bad52c3b-4256-45be-ef45-e49fa39ab025"
      },
      "execution_count": null,
      "outputs": [
        {
          "output_type": "stream",
          "name": "stdout",
          "text": [
            "[0.10924619 0.84680066]\n",
            " \n",
            "0.1092 x + 0.8468\n"
          ]
        }
      ]
    },
    {
      "cell_type": "code",
      "source": [
        "y_fit = np.polyval(polynomial_factor, X_test)\n",
        "\n",
        "plt.scatter(X_test, y_test)\n",
        "plt.xlabel('total_bill')\n",
        "plt.ylabel('tip')\n",
        "plt.plot(X_test, y_fit)\n",
        "plt.show"
      ],
      "metadata": {
        "colab": {
          "base_uri": "https://localhost:8080/",
          "height": 467
        },
        "id": "FQtR6mCNhuYV",
        "outputId": "6dd1a1a0-14d0-4410-c059-4be51815a1ea"
      },
      "execution_count": null,
      "outputs": [
        {
          "output_type": "execute_result",
          "data": {
            "text/plain": [
              "<function matplotlib.pyplot.show(close=None, block=None)>"
            ]
          },
          "metadata": {},
          "execution_count": 20
        },
        {
          "output_type": "display_data",
          "data": {
            "text/plain": [
              "<Figure size 640x480 with 1 Axes>"
            ],
            "image/png": "[encoded data removed]"
          },
          "metadata": {}
        }
      ]
    },
    {
      "cell_type": "code",
      "source": [
        "print('r square : ', r2_score(y_test, y_fit))\n",
        "print('mean absolute error : ', mean_absolute_error(y_test, y_fit))\n",
        "print('mean square error : ', mean_squared_error(y_test, y_fit))"
      ],
      "metadata": {
        "colab": {
          "base_uri": "https://localhost:8080/"
        },
        "id": "ECyMYDvgi4jS",
        "outputId": "15ac8904-7a48-4603-b580-4eda3f03627a"
      },
      "execution_count": null,
      "outputs": [
        {
          "output_type": "stream",
          "name": "stdout",
          "text": [
            "r square :  0.4854342159539491\n",
            "mean absolute error :  0.6131277769164835\n",
            "mean square error :  0.7563531518481611\n"
          ]
        }
      ]
    }
  ]
}