{
  "nbformat": 4,
  "nbformat_minor": 0,
  "metadata": {
    "colab": {
      "provenance": [],
      "authorship_tag": "ABX9TyOj7xjl+IPUeEpx2adHR2hB",
      "include_colab_link": true
    },
    "kernelspec": {
      "name": "python3",
      "display_name": "Python 3"
    },
    "language_info": {
      "name": "python"
    }
  },
  "cells": [
    {
      "cell_type": "markdown",
      "metadata": {
        "id": "view-in-github",
        "colab_type": "text"
      },
      "source": [
        "<a href=\"https://colab.research.google.com/github/Piyaphum/Python-Mini-Projects/blob/main/Line_Rangers_GACHA_Probability.ipynb\" target=\"_parent\"><img src=\"https://colab.research.google.com/assets/colab-badge.svg\" alt=\"Open In Colab\"/></a>"
      ]
    },
    {
      "cell_type": "code",
      "execution_count": 6,
      "metadata": {
        "colab": {
          "base_uri": "https://localhost:8080/"
        },
        "id": "g7k06nEyKJ5M",
        "outputId": "33bedcda-704f-46ee-dadb-6082751fca8d"
      },
      "outputs": [
        {
          "output_type": "stream",
          "name": "stdout",
          "text": [
            "ใส่เรทดรอปเรนเจอร์ที่ต้องการ : 1.2\n",
            "จำนวนครั้งที่ต้องเปิด : 573\n",
            "จำนวนตั๋วที่ต้องใช้ : 2865\n"
          ]
        }
      ],
      "source": [
        "import math\n",
        "\n",
        "def calculate_rate_drop (prob_to_drop, confidence):\n",
        "    \"\"\"\n",
        "    คำนวณจำนวนครั้งที่ต้องเปิดกาชาเพื่อให้ได้ตัวใหม่ในระดับความมั่นใจที่กำหนด\n",
        "    : param drop_rate : ความน่าจะเป็นในการได้ตัวใหม่ในครั้งเดียวหรือเรทดรอปนั่นแหละ\n",
        "    : param confidence : ระดับความมั่นใจที่ต้องการในการเปิด (0.999 สำหรับ 99.9%)\n",
        "    : return : จำนวนครั้งที่ต้องเปิด\n",
        "    \"\"\"\n",
        "    probability_no_new = 1 - prob_to_drop\n",
        "    threshold = 1 - confidence\n",
        "    attempts = math.ceil(math.log(threshold) / math.log(probability_no_new))\n",
        "    return attempts\n",
        "\n",
        "drop_rate = float(input(\"ใส่เรทดรอปเรนเจอร์ที่ต้องการ : \")) #ความน่าจะเป็นหรือเรทดรอป\n",
        "confidence = 0.999 #ระดับความมั่นใจ 99.9%\n",
        "tickets_per_gacha = 5 #จำนวนตั๋วที่ใช้ต่อครั้งคือ 5 ใบ\n",
        "\n",
        "# คำนวณจำนวนครั้งและจำนวนตั๋วที่ต้องใช้\n",
        "drop_rate = drop_rate / 100\n",
        "attempts = calculate_rate_drop (drop_rate, confidence)\n",
        "totalTickets = attempts * tickets_per_gacha\n",
        "\n",
        "print(f\"จำนวนครั้งที่ต้องเปิด : {attempts}\")\n",
        "print(f\"จำนวนตั๋วที่ต้องใช้ : {totalTickets}\")\n"
      ]
    }
  ]
}