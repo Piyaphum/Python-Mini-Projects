{
  "nbformat": 4,
  "nbformat_minor": 0,
  "metadata": {
    "colab": {
      "provenance": [],
      "authorship_tag": "ABX9TyOKCbeUkONLhdcMrSeNfk6P",
      "include_colab_link": true
    },
    "kernelspec": {
      "name": "python3",
      "display_name": "Python 3"
    },
    "language_info": {
      "name": "python"
    }
  },
  "cells": [
    {
      "cell_type": "markdown",
      "metadata": {
        "id": "view-in-github",
        "colab_type": "text"
      },
      "source": [
        "<a href=\"https://colab.research.google.com/github/Piyaphum/Python-Mini-Projects/blob/main/Line_Rangers_GACHA_Probability.ipynb\" target=\"_parent\"><img src=\"https://colab.research.google.com/assets/colab-badge.svg\" alt=\"Open In Colab\"/></a>"
      ]
    },
    {
      "cell_type": "code",
      "execution_count": 14,
      "metadata": {
        "colab": {
          "base_uri": "https://localhost:8080/"
        },
        "id": "wiE8mjgsz6lz",
        "outputId": "5667d44a-7c90-4730-d565-9e4dfaf1186e"
      },
      "outputs": [
        {
          "output_type": "stream",
          "name": "stdout",
          "text": [
            "Number of draws needed: 766\n",
            "Total tickets needed: 3830\n"
          ]
        }
      ],
      "source": [
        "import math\n",
        "\n",
        "def calculate_tickets(rate, tickets_per_draw, success_probability):\n",
        "    # Calculate the number of draws needed\n",
        "    log_fail_rate = math.log(1 - rate)\n",
        "    log_target = math.log(1 - success_probability)\n",
        "    draws = math.ceil(log_target / log_fail_rate)\n",
        "\n",
        "    # Calculate the total tickets needed\n",
        "    total_tickets = draws * tickets_per_draw\n",
        "    return draws, total_tickets\n",
        "\n",
        "# Parameters\n",
        "rate = 0.6/100  # Drop rate (0.6%)\n",
        "tickets_per_draw = 5  # Number of tickets per draw\n",
        "success_probability = 0.99  # Target success probability (99%)\n",
        "\n",
        "draws, total_tickets = calculate_tickets(rate, tickets_per_draw, success_probability)\n",
        "\n",
        "print(f\"Number of draws needed: {draws}\")\n",
        "print(f\"Total tickets needed: {total_tickets}\")\n"
      ]
    }
  ]
}