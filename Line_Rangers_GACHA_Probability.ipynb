{
  "nbformat": 4,
  "nbformat_minor": 0,
  "metadata": {
    "colab": {
      "provenance": [],
      "authorship_tag": "ABX9TyNgAHUUveCE3DWcw8kd8nxk",
      "include_colab_link": true
    },
    "kernelspec": {
      "name": "python3",
      "display_name": "Python 3"
    },
    "language_info": {
      "name": "python"
    }
  },
  "cells": [
    {
      "cell_type": "markdown",
      "metadata": {
        "id": "view-in-github",
        "colab_type": "text"
      },
      "source": [
        "<a href=\"https://colab.research.google.com/github/Piyaphum/Python-Mini-Projects/blob/main/Line_Rangers_GACHA_Probability.ipynb\" target=\"_parent\"><img src=\"https://colab.research.google.com/assets/colab-badge.svg\" alt=\"Open In Colab\"/></a>"
      ]
    },
    {
      "cell_type": "code",
      "execution_count": null,
      "metadata": {
        "colab": {
          "base_uri": "https://localhost:8080/"
        },
        "id": "wiE8mjgsz6lz",
        "outputId": "155a1742-e654-4ae2-dd46-5b2c408a305d"
      },
      "outputs": [
        {
          "output_type": "stream",
          "name": "stdout",
          "text": [
            "ต้องเปิดทั้งหมด : 766 ครั้ง\n",
            "จำนวณตั๋วที่ต้องใช้ : 3830 ใบ\n"
          ]
        }
      ],
      "source": [
        "import math\n",
        "\n",
        "def calculate_tickets(rate, tickets_per_draw, success_probability):\n",
        "    log_fail_rate = math.log(1 - rate)\n",
        "    log_target = math.log(1 - success_probability)\n",
        "    draws = math.ceil(log_target / log_fail_rate)\n",
        "\n",
        "    # คำนวณจำนวนตั๋วที่ต้องใช้ในการเปิด\n",
        "    total_tickets = draws * tickets_per_draw\n",
        "    return draws, total_tickets\n",
        "\n",
        "# parameters\n",
        "rate = 0.6/100  # rate drop (0.6%)\n",
        "tickets_per_draw = 5  # จำนวนตั๋วต่อการเปิด\n",
        "success_probability = 0.99  # ความน่าจะเป็นที่จะเปิดได้ (99%)\n",
        "\n",
        "draws, total_tickets = calculate_tickets(rate, tickets_per_draw, success_probability)\n",
        "\n",
        "print(\"ต้องเปิดทั้งหมด : %d ครั้ง\" %(draws))\n",
        "print(\"จำนวณตั๋วที่ต้องใช้ : %d ใบ\" %total_tickets)\n"
      ]
    },
    {
      "cell_type": "code",
      "source": [
        "def calculate_probability(total_tickets, tickets_per_attempt, probability_drop):\n",
        "    \"\"\"\n",
        "    คำนวณโอกาสการได้ตัวใหม่จากจำนวนตั๋วที่มี\n",
        "    :param total_tickets: จำนวนตั๋วทั้งหมด\n",
        "    :param tickets_per_attempt: จำนวนตั๋วที่ใช้ต่อครั้ง\n",
        "    :param probability_drop: ความน่าจะเป็นในการได้ตัวใหม่ในครั้งเดียว (0.012 สำหรับ 1.2%)\n",
        "    :return: โอกาสในการได้ตัวใหม่ (0-1)\n",
        "    \"\"\"\n",
        "    # คำนวณจำนวนครั้งที่เปิดได้\n",
        "    n_attempts = total_tickets // tickets_per_attempt\n",
        "    # คำนวณโอกาสการได้ตัวใหม่\n",
        "    probability_new = 1 - (1 - probability_drop) ** n_attempts\n",
        "    return probability_new\n",
        "\n",
        "# ตัวอย่างการใช้งาน\n",
        "total_tickets = int(input('ใส่จำนวนตั๋วที่มี : ')) # จำนวนตั๋วที่มี\n",
        "tickets_per_attempt = 5   # จำนวนตั๋วที่ใช้ต่อครั้ง\n",
        "probability_drop = 0.012  # ความน่าจะเป็น 1.2%\n",
        "\n",
        "# คำนวณโอกาส\n",
        "probability_new = calculate_probability(total_tickets, tickets_per_attempt, probability_drop)\n",
        "\n",
        "print(f\"โอกาสการได้ตัวใหม่ : {probability_new * 100:.2f}%\")\n"
      ],
      "metadata": {
        "id": "rBQaHOTNSl2_"
      },
      "execution_count": null,
      "outputs": []
    }
  ]
}