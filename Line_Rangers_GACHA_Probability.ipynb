{
  "nbformat": 4,
  "nbformat_minor": 0,
  "metadata": {
    "colab": {
      "provenance": [],
      "authorship_tag": "ABX9TyPblwZ/7+n9F9jRLlk8S4Pt",
      "include_colab_link": true
    },
    "kernelspec": {
      "name": "python3",
      "display_name": "Python 3"
    },
    "language_info": {
      "name": "python"
    }
  },
  "cells": [
    {
      "cell_type": "markdown",
      "metadata": {
        "id": "view-in-github",
        "colab_type": "text"
      },
      "source": [
        "<a href=\"https://colab.research.google.com/github/Piyaphum/Python-Mini-Projects/blob/main/Line_Rangers_GACHA_Probability.ipynb\" target=\"_parent\"><img src=\"https://colab.research.google.com/assets/colab-badge.svg\" alt=\"Open In Colab\"/></a>"
      ]
    },
    {
      "cell_type": "code",
      "execution_count": null,
      "metadata": {
        "colab": {
          "base_uri": "https://localhost:8080/"
        },
        "id": "wiE8mjgsz6lz",
        "outputId": "155a1742-e654-4ae2-dd46-5b2c408a305d"
      },
      "outputs": [
        {
          "output_type": "stream",
          "name": "stdout",
          "text": [
            "ต้องเปิดทั้งหมด : 766 ครั้ง\n",
            "จำนวณตั๋วที่ต้องใช้ : 3830 ใบ\n"
          ]
        }
      ],
      "source": [
        "import math\n",
        "\n",
        "def calculate_tickets(rate, tickets_per_draw, success_probability):\n",
        "    log_fail_rate = math.log(1 - rate)\n",
        "    log_target = math.log(1 - success_probability)\n",
        "    draws = math.ceil(log_target / log_fail_rate)\n",
        "\n",
        "    # คำนวณจำนวนตั๋วที่ต้องใช้ในการเปิด\n",
        "    total_tickets = draws * tickets_per_draw\n",
        "    return draws, total_tickets\n",
        "\n",
        "# parameters\n",
        "rate = 0.6/100  # rate drop (0.6%)\n",
        "tickets_per_draw = 5  # จำนวนตั๋วต่อการเปิด\n",
        "success_probability = 0.99  # ความน่าจะเป็นที่จะเปิดได้ (99%)\n",
        "\n",
        "draws, total_tickets = calculate_tickets(rate, tickets_per_draw, success_probability)\n",
        "\n",
        "print(\"ต้องเปิดทั้งหมด : %d ครั้ง\" %(draws))\n",
        "print(\"จำนวณตั๋วที่ต้องใช้ : %d ใบ\" %total_tickets)\n"
      ]
    },
    {
      "cell_type": "code",
      "source": [
        "# @title Default title text\n",
        "def calculate_probability (total_tickets, tickets_per_attempt, probability_drop):\n",
        "    \"\"\"\n",
        "    คำนวณโอกาสการได้ตัวใหม่จากจำนวนตั๋วที่มี\n",
        "    :param total_tickets: จำนวนตั๋วทั้งหมด\n",
        "    :param tickets_per_attempt: จำนวนตั๋วที่ใช้ต่อครั้ง\n",
        "    :param probability_drop: ความน่าจะเป็นในการได้ตัวใหม่ในครั้งเดียว (0.012 สำหรับ 1.2%)\n",
        "    :return: โอกาสในการได้ตัวใหม่ (0-1)\n",
        "\n",
        "    จากสมการที่ว่า P(ตัวที่ต้องการ) = 1-(1-เรทดรอป) ** จำนวนครั้งที่สามารถเปิดได้ หรือ n_attemps จะได้ว่า\n",
        "    \"\"\"\n",
        "    # คำนวณจำนวนครั้งที่เปิดได้\n",
        "    n_attempts = total_tickets // tickets_per_attempt\n",
        "\n",
        "    # คำนวณโอกาสการได้ตัวใหม่\n",
        "    probability_new = 1 - (1 - probability_drop) ** n_attempts\n",
        "    return probability_new\n",
        "\n",
        "# ตัวอย่างการใช้งาน\n",
        "while True :\n",
        "  total_tickets = 0\n",
        "  while (total_tickets < 5) :\n",
        "    total_tickets = int(input('ป้อนจำนวณตั๋วที่มี : '))\n",
        "\n",
        "    if total_tickets < 5 :\n",
        "      print(\"ตั๋วน้อยเกินไปไม่สามารถคำนวณได้\")\n",
        "      print(\"กรุณาป้อนจำนวณตั๋วใหม่อีกครั้ง\")\n",
        "  else :\n",
        "    tickets_per_attempt = 5   # จำนวนตั๋วที่ใช้ต่อครั้ง\n",
        "    probability_drop = 0.012  # ความน่าจะเป็น 1.2%\n",
        "\n",
        "    # คำนวณโอกาส\n",
        "    probability_new = calculate_probability(total_tickets, tickets_per_attempt, probability_drop)\n",
        "\n",
        "  print(f\"โอกาสการได้ตัวใหม่ : {probability_new * 100:.2f}%\")\n",
        "\n",
        "  # ถามว่าจะใช้ต่อไหม\n",
        "  continue_program = str(input('ต้องการใช้โปรแกรมต่อไหม (\"พิมพ์ yes หรือ no\") : ').strip().lower())\n",
        "  if continue_program != 'yes' :\n",
        "    print(\"Thank you, Good bye :)\")\n",
        "    break\n"
      ],
      "metadata": {
        "colab": {
          "base_uri": "https://localhost:8080/"
        },
        "id": "rBQaHOTNSl2_",
        "outputId": "751501c4-f354-4544-eaaa-e5484021998e"
      },
      "execution_count": 24,
      "outputs": [
        {
          "output_type": "stream",
          "name": "stdout",
          "text": [
            "ป้อนจำนวณตั๋วที่มี : 640\n",
            "โอกาสการได้ตัวใหม่ : 78.68%\n",
            "ต้องการใช้โปรแกรมต่อไหม (\"พิมพ์ yes หรือ no\") : no\n",
            "Thank you, Good bye :)\n"
          ]
        }
      ]
    }
  ]
}