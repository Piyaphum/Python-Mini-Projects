{
  "nbformat": 4,
  "nbformat_minor": 0,
  "metadata": {
    "colab": {
      "provenance": [],
      "authorship_tag": "ABX9TyOCo9SgF+3+XFCpHDzGGV4q",
      "include_colab_link": true
    },
    "kernelspec": {
      "name": "python3",
      "display_name": "Python 3"
    },
    "language_info": {
      "name": "python"
    }
  },
  "cells": [
    {
      "cell_type": "markdown",
      "metadata": {
        "id": "view-in-github",
        "colab_type": "text"
      },
      "source": [
        "<a href=\"https://colab.research.google.com/github/Piyaphum/Python-Mini-Projects/blob/main/Line_Rangers_GACHA_Probability.ipynb\" target=\"_parent\"><img src=\"https://colab.research.google.com/assets/colab-badge.svg\" alt=\"Open In Colab\"/></a>"
      ]
    },
    {
      "cell_type": "code",
      "execution_count": 3,
      "metadata": {
        "colab": {
          "base_uri": "https://localhost:8080/"
        },
        "id": "g7k06nEyKJ5M",
        "outputId": "7f70a1a4-4a05-463a-ba15-2969b7262eb5"
      },
      "outputs": [
        {
          "output_type": "stream",
          "name": "stdout",
          "text": [
            "จำนวนครั้งที่ต้องเปิด : 573\n",
            "จำนวนตั๋วที่ต้องใช้ : 2865\n"
          ]
        }
      ],
      "source": [
        "import math\n",
        "\n",
        "def calculate_rateDrop (probDrop, confidence):\n",
        "    \"\"\"\n",
        "    คำนวณจำนวนครั้งที่ต้องเปิดกาชาเพื่อให้ได้ตัวใหม่ในระดับความมั่นใจที่กำหนด\n",
        "    : param probDrop : ความน่าจะเป็นในการได้ตัวใหม่ในครั้งเดียวหรือเรทดรอปนั่นแหละ (0.012 สำหรับ 1.2%)\n",
        "    : param confidence : ระดับความมั่นใจที่ต้องการในการเปิด (0.999 สำหรับ 99.9%)\n",
        "    : return : จำนวนครั้งที่ต้องเปิด\n",
        "    \"\"\"\n",
        "    probability_no_new = 1 - probDrop\n",
        "    threshold = 1 - confidence\n",
        "    attempts = math.ceil(math.log(threshold) / math.log(probability_no_new))\n",
        "    return attempts\n",
        "\n",
        "probDrop = 0.012  # ความน่าจะเป็นหรือเรทดรอป 1.2%\n",
        "confidence = 0.999  # ระดับความมั่นใจ 99.9%\n",
        "ticketsPerGacha = 5   # จำนวนตั๋วที่ใช้ต่อครั้งคือ 5 ใบ\n",
        "\n",
        "# คำนวณจำนวนครั้งและจำนวนตั๋วที่ต้องใช้\n",
        "attempts = calculate_rateDrop (probDrop, confidence)\n",
        "totalTickets = attempts * ticketsPerGacha\n",
        "\n",
        "print(f\"จำนวนครั้งที่ต้องเปิด : {attempts}\")\n",
        "print(f\"จำนวนตั๋วที่ต้องใช้ : {totalTickets}\")\n"
      ]
    }
  ]
}